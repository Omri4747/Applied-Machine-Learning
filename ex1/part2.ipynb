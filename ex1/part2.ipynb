{
 "cells": [
  {
   "cell_type": "markdown",
   "id": "a9f3002d",
   "metadata": {},
   "source": [
    "## Imports"
   ]
  },
  {
   "cell_type": "code",
   "execution_count": null,
   "id": "341c9cc7",
   "metadata": {},
   "outputs": [],
   "source": [
    "# builtin\n",
    "from itertools import combinations\n",
    "\n",
    "# pmlb\n",
    "from pmlb import fetch_data\n",
    "\n",
    "# sklearn\n",
    "from sklearn.model_selection import train_test_split\n",
    "from sklearn.linear_model import LinearRegression\n",
    "from sklearn.metrics import mean_absolute_error\n",
    "from sklearn.base import clone\n",
    "\n",
    "# matplotlib\n",
    "import matplotlib.pyplot as plt\n",
    "\n",
    "# seaborn\n",
    "import seaborn as sns\n",
    "\n",
    "# numpy\n",
    "import numpy as np"
   ]
  },
  {
   "cell_type": "markdown",
   "id": "5e39f792",
   "metadata": {},
   "source": [
    "## Load Pollen dataset"
   ]
  },
  {
   "cell_type": "code",
   "execution_count": null,
   "id": "36c5498e",
   "metadata": {},
   "outputs": [],
   "source": [
    "pollen = fetch_data(\"529_pollen\")\n",
    "X, y = fetch_data(\"529_pollen\", return_X_y=True)"
   ]
  },
  {
   "cell_type": "markdown",
   "id": "4766a484",
   "metadata": {},
   "source": [
    "## Preliminary data analysis\n",
    "Looking into the pollen dataset, the target are real numbers, between -12.0391 to 10.8673.\n",
    "There are 3848 examples in it.\n",
    "The dataset contains synthetic pollen created by David Coleman at RCA Laboratories in Princeton. The \"ellipsoidal voids\" in the pollen were simulated, and you can find more information on how this was done on the openml source page. Although the distribution used to generate the data is Gaussian, it has been modified by scaling, rotating, and translating the data. The variable names in the dataset are not based on any actual pollen attributes.\n",
    "\n",
    "### features\n",
    "* RIDGE - continuous. lengths of grain in dimension x.\n",
    "* NUB - continuous. lengths of grain in dimension y.\n",
    "* CRACK - continuous. lengths of grain in dimension z.\n",
    "* WEIGHT - continuous. "
   ]
  },
  {
   "cell_type": "markdown",
   "id": "edb9baf9",
   "metadata": {},
   "source": [
    "Acocording to info we can verify that there are 3848 examples, and each of our 4 features and target is of type float, and that all values are not None."
   ]
  },
  {
   "cell_type": "code",
   "execution_count": null,
   "id": "11dbc1ea",
   "metadata": {},
   "outputs": [],
   "source": [
    "pollen.info()"
   ]
  },
  {
   "cell_type": "markdown",
   "id": "29aac45d",
   "metadata": {},
   "source": [
    "From the describe() function, we can learn the range, mean and standart deviation and some more on our features and target."
   ]
  },
  {
   "cell_type": "code",
   "execution_count": null,
   "id": "9beca353",
   "metadata": {},
   "outputs": [],
   "source": [
    "pollen.describe()"
   ]
  },
  {
   "cell_type": "markdown",
   "id": "bdc23ab5",
   "metadata": {},
   "source": [
    "We are plotting all of the histograms between each 2 features, in order to see if we encounter anything ineresting.\n",
    "As we can see, most of the data are gaussian distributed and we can't find any corellation between 2 features.\n",
    "As we didn't find any connection between 2 features, we will continue with the current data."
   ]
  },
  {
   "cell_type": "code",
   "execution_count": null,
   "id": "bac43657",
   "metadata": {},
   "outputs": [],
   "source": [
    "sns.pairplot(pollen, hue='target', markers='*')"
   ]
  },
  {
   "cell_type": "markdown",
   "id": "19598546",
   "metadata": {},
   "source": [
    "## Learning using LinearRegression\n",
    "Now we are going to learn using the LinearRegression model.\n",
    "We are going to use a test-train ration of 0.1,0.2,...,0.9 to train a linear regressor.\n",
    "We will evaluate the absolute error of the model on the train set and then we will plot the accuracy of each ratio."
   ]
  },
  {
   "cell_type": "code",
   "execution_count": null,
   "id": "0ad45247",
   "metadata": {},
   "outputs": [],
   "source": [
    "rs = np.arange(0.1,1,0.1)"
   ]
  },
  {
   "cell_type": "markdown",
   "id": "a0b0f786",
   "metadata": {},
   "source": []
  },
  {
   "cell_type": "code",
   "execution_count": null,
   "id": "297519ce",
   "metadata": {},
   "outputs": [],
   "source": [
    "def run_linear_regressor(rs: list[float], X: np.ndarray, y: np.ndarray) -> list[float]:\n",
    "    errors = []\n",
    "    for r in rs:\n",
    "        X_train, X_test, y_train, y_test = train_test_split(X, y, test_size=r)\n",
    "        linear_regressor = LinearRegression()\n",
    "        linear_regressor.fit(X_train, y_train)\n",
    "        mae = mean_absolute_error(y_test, linear_regressor.predict(X_test))\n",
    "        print(f\"{r:.01f}: {mae:.04f}\")\n",
    "        errors.append(mae)\n",
    "    return errors"
   ]
  },
  {
   "cell_type": "code",
   "execution_count": null,
   "id": "67d88dac",
   "metadata": {},
   "outputs": [],
   "source": [
    "def plot_errors(rs: list[float], errors: list[float]) -> None:\n",
    "    plt.plot(rs, errors, marker='o')\n",
    "    plt.grid(True)\n",
    "    plt.xlabel(\"Train Size Ration\")\n",
    "    plt.ylabel(\"Mean Absolute Error on Test set\")\n",
    "    plt.title('Mean Absolute Error of LinearRegression Model on Different Test Set Ratios')\n",
    "    plt.show()"
   ]
  },
  {
   "cell_type": "code",
   "execution_count": null,
   "id": "4dd4022d",
   "metadata": {},
   "outputs": [],
   "source": [
    "errors = run_linear_regressor(rs, X, y)"
   ]
  },
  {
   "cell_type": "code",
   "execution_count": null,
   "id": "f23c6483",
   "metadata": {},
   "outputs": [],
   "source": [
    "plot_errors(rs, errors)"
   ]
  },
  {
   "cell_type": "code",
   "execution_count": null,
   "id": "3cc6c962",
   "metadata": {},
   "outputs": [],
   "source": []
  },
  {
   "cell_type": "markdown",
   "id": "bcd50ed4",
   "metadata": {},
   "source": [
    "### Naive k-features selection\n",
    "We're going to run the LinearRegression model, each time with k features from the data.\n",
    "\n",
    "Then we're going to compare the k features that achieved the best results on the test set.\n",
    "\n",
    "We're going to use k=2 and k=3"
   ]
  },
  {
   "cell_type": "code",
   "execution_count": null,
   "id": "b07e24df",
   "metadata": {},
   "outputs": [],
   "source": [
    "def naive_k_feature_selection(train: tuple, test: tuple, k: int):\n",
    "    X_train, y_train = train\n",
    "    X_test, y_test = test\n",
    "    \n",
    "    mae_dict = {}\n",
    "    \n",
    "    # Get all combinations of k elements\n",
    "    comb = list(combinations(range(X_train.shape[1]), k))\n",
    "    linear_regressor = LinearRegression()\n",
    "    for features in comb:\n",
    "        curr_model = clone(linear_regressor)\n",
    "        curr_X_train = X_train[:, features]\n",
    "        curr_X_test = X_test[:, features]\n",
    "        curr_model.fit(curr_X_train, y_train)\n",
    "        mae = mean_absolute_error(y_test, curr_model.predict(curr_X_test))\n",
    "        mae_dict[features] = mae\n",
    "    \n",
    "    best_features = max(mae_dict, key=mae_dict.get)\n",
    "    return best_features, mae_dict[best_features]\n",
    "    "
   ]
  },
  {
   "cell_type": "code",
   "execution_count": null,
   "id": "e08c7d8c",
   "metadata": {},
   "outputs": [],
   "source": [
    "X_train, X_test, y_train, y_test = train_test_split(X, y)\n",
    "features = list(pollen.keys()).remove('target')\n",
    "# for 2 features\n",
    "k = 2\n",
    "best_features, mae = naive_k_feature_selection((X_train, y_train), (X_test, y_test), k)\n",
    "print(f\"Best features for k={k}: features={[pollen.columns[i] for i in best_features]}, mean absolute error={mae:.04f}\")\n",
    "\n",
    "# for 3 features\n",
    "k = 3\n",
    "best_features, mae = naive_k_feature_selection((X_train, y_train), (X_test, y_test), k)\n",
    "print(f\"Best features for k={k}: features={[pollen.columns[i] for i in best_features]}, mean absolute error={mae:.04f}\")\n"
   ]
  }
 ],
 "metadata": {
  "kernelspec": {
   "display_name": "Python 3 (ipykernel)",
   "language": "python",
   "name": "python3"
  },
  "language_info": {
   "codemirror_mode": {
    "name": "ipython",
    "version": 3
   },
   "file_extension": ".py",
   "mimetype": "text/x-python",
   "name": "python",
   "nbconvert_exporter": "python",
   "pygments_lexer": "ipython3",
   "version": "3.10.5"
  }
 },
 "nbformat": 4,
 "nbformat_minor": 5
}
